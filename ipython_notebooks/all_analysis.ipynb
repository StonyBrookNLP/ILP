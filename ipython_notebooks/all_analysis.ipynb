{
 "cells": [
  {
   "cell_type": "code",
   "execution_count": 1,
   "metadata": {
    "collapsed": false
   },
   "outputs": [
    {
     "name": "stderr",
     "output_type": "stream",
     "text": [
      "/usr/local/lib/python2.7/dist-packages/matplotlib/__init__.py:872: UserWarning: axes.color_cycle is deprecated and replaced with axes.prop_cycle; please use the latter.\n",
      "  warnings.warn(self.msg_depr % (key, alt_key))\n"
     ]
    }
   ],
   "source": [
    "%matplotlib inline\n",
    "\n",
    "from os import listdir\n",
    "from os.path import isfile, join\n",
    "\n",
    "import sys\n",
    "import subprocess\n",
    "import glob\n",
    "import json\n",
    "import pandas as pd\n",
    "import numpy as np\n",
    "\n",
    "from collections import defaultdict\n",
    "from collections import Counter\n",
    "\n",
    "from sklearn import metrics\n",
    "from sklearn.metrics import confusion_matrix\n",
    "from sklearn.metrics import accuracy_score\n",
    "from sklearn.metrics import classification_report\n",
    "from sklearn.metrics import precision_recall_curve\n",
    "from sklearn.metrics import average_precision_score\n",
    "\n",
    "import matplotlib as mpl\n",
    "import matplotlib.pyplot as plt\n",
    "import seaborn as sns\n",
    "from matplotlib import cm\n",
    "from matplotlib import rc\n",
    "\n",
    "import pprint\n",
    "pp = pprint.PrettyPrinter(indent=4)\n",
    "\n",
    "\n",
    "sys.path.insert(0, '/home/cnaik/s/3/ilp')\n",
    "from  utils import ilp_config\n",
    "from  utils import ilp_utils"
   ]
  },
  {
   "cell_type": "code",
   "execution_count": 2,
   "metadata": {
    "collapsed": true
   },
   "outputs": [],
   "source": [
    "rc(\"grid\", alpha=0.9)\n",
    "rc(\"grid\", linewidth=0.2)\n",
    "rc(\"grid\", linestyle=\":\")"
   ]
  },
  {
   "cell_type": "code",
   "execution_count": 3,
   "metadata": {
    "collapsed": false
   },
   "outputs": [
    {
     "name": "stderr",
     "output_type": "stream",
     "text": [
      "/usr/local/lib/python2.7/dist-packages/matplotlib/__init__.py:1350: UserWarning:  This call to matplotlib.use() has no effect\n",
      "because the backend has already been chosen;\n",
      "matplotlib.use() must be called *before* pylab, matplotlib.pyplot,\n",
      "or matplotlib.backends is imported for the first time.\n",
      "\n",
      "  warnings.warn(_use_error_msg)\n",
      "/usr/local/lib/python2.7/dist-packages/matplotlib/__init__.py:872: UserWarning: text.fontsize is deprecated and replaced with font.size; please use the latter.\n",
      "  warnings.warn(self.msg_depr % (key, alt_key))\n"
     ]
    }
   ],
   "source": [
    "mpl.use('pgf')\n",
    "\n",
    "def figsize(scale):\n",
    "    fig_width_pt = 469.755                          # Get this from LaTeX using \\the\\textwidth\n",
    "    inches_per_pt = 1.0/72.27                       # Convert pt to inch\n",
    "    golden_mean = (np.sqrt(5.0)-1.0)/2.0            # Aesthetic ratio (you could change this)\n",
    "    fig_width = fig_width_pt*inches_per_pt*scale    # width in inches\n",
    "    fig_height = fig_width*golden_mean              # height in inches\n",
    "    fig_size = [fig_width,fig_height]\n",
    "    return fig_size\n",
    "\n",
    "pgf_with_latex = {                      # setup matplotlib to use latex for output\n",
    "    \"pgf.texsystem\": \"pdflatex\",        # change this if using xetex or lautex\n",
    "    \"text.usetex\": True,                # use LaTeX to write all text\n",
    "    \"font.family\": \"serif\",\n",
    "    \"font.serif\": [],                   # blank entries should cause plots to inherit fonts from the document\n",
    "    \"font.sans-serif\": [],\n",
    "    \"font.monospace\": [],\n",
    "    \"axes.labelsize\": 10,               # LaTeX default is 10pt font.\n",
    "    \"text.fontsize\": 10,\n",
    "    \"legend.fontsize\": 8,               # Make the legend/label fonts a little smaller\n",
    "    \"xtick.labelsize\": 8,\n",
    "    \"ytick.labelsize\": 8,\n",
    "    \"figure.figsize\": figsize(1),     # default fig size of 1 textwidth\n",
    "    \"pgf.preamble\": [\n",
    "        r\"\\usepackage[utf8x]{inputenc}\",    # use utf8 fonts becasue your computer can handle it :)\n",
    "        r\"\\usepackage[T1]{fontenc}\",        # plots will be generated using this preamble\n",
    "        ]\n",
    "    }\n",
    "mpl.rcParams.update(pgf_with_latex)\n",
    "\n",
    "sns.set_context(\"paper\", font_scale=1.0, rc={'lines.linewidth': 0.75,\n",
    "                                             'axes.linewidth': 0.75,\n",
    "                                             'text.usetex': True\n",
    "                                             })\n",
    "sns.set_style(\"whitegrid\", {'font.family': 'serif',\n",
    "                            'font.serif': ['Palatino']})\n",
    "\n",
    "# sns.set(style=\"white\")"
   ]
  },
  {
   "cell_type": "code",
   "execution_count": 4,
   "metadata": {
    "collapsed": true
   },
   "outputs": [],
   "source": [
    "plt.rc('figure', figsize=(18,12))"
   ]
  },
  {
   "cell_type": "code",
   "execution_count": 5,
   "metadata": {
    "collapsed": true
   },
   "outputs": [],
   "source": [
    "def get_gold_data(d_gold):\n",
    "    gold_data_raw = defaultdict(list)\n",
    "    for process_dict in d_gold:\n",
    "        process = process_dict['process']\n",
    "        # list of sentences\n",
    "        for sentence_dict in process_dict['sentences']:\n",
    "            sent_id = sentence_dict['sentenceId']\n",
    "            # list of arguments\n",
    "            for arg_dict in sentence_dict['annotatedArgumentSpan']:\n",
    "                arg_id = arg_dict['argId']\n",
    "                start_id = int(arg_dict['startIdx'])\n",
    "                end_id = int(arg_dict['endIdx'])\n",
    "                role_type = arg_dict['annotatedRole']\n",
    "                role_label = int(arg_dict['annotatedLabel'])\n",
    "                gold_data_raw[(sent_id, start_id, end_id)].append((role_type, role_label))\n",
    "\n",
    "    gold_data = {}\n",
    "    for k, v in gold_data_raw.iteritems():\n",
    "        roles = []\n",
    "        labels = []\n",
    "        for x in v:\n",
    "            roles.append(x[0])\n",
    "            labels.append(x[1])\n",
    "\n",
    "        if 1 in labels:\n",
    "            gold_data[k] = roles[labels.index(1)]\n",
    "        elif np.sum(labels) == -4:\n",
    "            gold_data[k] = 'NONE'\n",
    "    return gold_data"
   ]
  },
  {
   "cell_type": "code",
   "execution_count": 6,
   "metadata": {
    "collapsed": true
   },
   "outputs": [],
   "source": [
    "def get_prediction_data(d_predict):\n",
    "    srl_data = defaultdict()\n",
    "    for process_dict in d_predict:\n",
    "        process = process_dict['process']\n",
    "        # list of sentences\n",
    "        for sentence_dict in process_dict['sentences']:\n",
    "            sent_id = sentence_dict['sentenceId']\n",
    "            # list of arguments\n",
    "            for arg_dict in sentence_dict['predictionArgumentSpan']:\n",
    "                arg_id = arg_dict['argId']\n",
    "                start_id = int(arg_dict['startIdx'])\n",
    "                end_id = int(arg_dict['endIdx'])\n",
    "                role_predicted = arg_dict['rolePredicted']\n",
    "                role_probs = {}\n",
    "                for role_prob in arg_dict['probRoles']:\n",
    "                    role_probs.update(role_prob)                \n",
    "                srl_data[(sent_id, start_id, end_id)] = (role_predicted, role_probs[role_predicted])\n",
    "    return srl_data"
   ]
  },
  {
   "cell_type": "code",
   "execution_count": 7,
   "metadata": {
    "collapsed": false
   },
   "outputs": [],
   "source": [
    "id_text_map = defaultdict()\n",
    "\n",
    "for f, fold_dir in enumerate(listdir(ilp_config.cross_val_dir)):\n",
    "    fold_path = join(ilp_config.cross_val_dir, fold_dir)\n",
    "    d_gold_file = join(fold_path, 'test', 'test.srlout.json')\n",
    "    d_gold = json.load(open(d_gold_file, \"r\"))\n",
    "    \n",
    "    for process_dict in d_gold:\n",
    "        process = process_dict['process']\n",
    "        # list of sentences\n",
    "        for sentence_dict in process_dict['sentences']:\n",
    "            sent_id = sentence_dict['sentenceId']\n",
    "            sentence_text = sentence_dict['text']\n",
    "            # list of arguments\n",
    "            for arg_dict in sentence_dict['annotatedArgumentSpan']:\n",
    "                start_id = int(arg_dict['startIdx'])\n",
    "                end_id = int(arg_dict['endIdx'])\n",
    "                role_text = arg_dict['text']\n",
    "                id_text_map[(sent_id, start_id, end_id)] = (process, sentence_text, role_text)"
   ]
  },
  {
   "cell_type": "code",
   "execution_count": 8,
   "metadata": {
    "collapsed": false
   },
   "outputs": [],
   "source": [
    "srl_fold_data = {}\n",
    "for f, fold_dir in enumerate(listdir(ilp_config.cross_val_dir)):\n",
    "    fold_path = join(ilp_config.cross_val_dir, fold_dir)\n",
    "    d_gold_file = join(fold_path, 'test', 'test.srlout.json')\n",
    "    d_predict_file = join(fold_path, 'test', 'test.srlpredict.json')\n",
    "    \n",
    "    d_gold = json.load(open(d_gold_file, \"r\"))\n",
    "    d_predict = json.load(open(d_predict_file, \"r\"))\n",
    "    \n",
    "    gold_data = get_gold_data(d_gold)\n",
    "    srl_data = get_prediction_data(d_predict)\n",
    "    \n",
    "    analysis_data = {k: (gold_data[k], v) for k, v in srl_data.iteritems() if k in gold_data}\n",
    "    srl_fold_data[f+1] = analysis_data"
   ]
  },
  {
   "cell_type": "code",
   "execution_count": 9,
   "metadata": {
    "collapsed": false
   },
   "outputs": [],
   "source": [
    "ilp_fold_data = {}\n",
    "for f, fold_dir in enumerate(listdir(ilp_config.cross_val_dir)):\n",
    "    fold_path = join(ilp_config.cross_val_dir, fold_dir)\n",
    "    d_gold_file = join(fold_path, 'test', 'test.srlout.json')\n",
    "    d_ilp_file = join(fold_path, 'test', 'test.ilppredict.json')\n",
    "    \n",
    "    d_gold = json.load(open(d_gold_file, \"r\"))\n",
    "    d_ilp = json.load(open(d_ilp_file, \"r\"))\n",
    "    \n",
    "    gold_data = get_gold_data(d_gold)\n",
    "    ilp_data = get_prediction_data(d_ilp)\n",
    "    \n",
    "    analysis_data = {k: (gold_data[k], v) for k, v in ilp_data.iteritems() if k in gold_data}\n",
    "    ilp_fold_data[f+1] = analysis_data"
   ]
  },
  {
   "cell_type": "code",
   "execution_count": 10,
   "metadata": {
    "collapsed": false
   },
   "outputs": [],
   "source": [
    "srl_all_data = {}\n",
    "for f, f_data in srl_fold_data.iteritems():\n",
    "    srl_all_data.update(f_data)"
   ]
  },
  {
   "cell_type": "code",
   "execution_count": 11,
   "metadata": {
    "collapsed": false
   },
   "outputs": [],
   "source": [
    "ilp_all_data = {}\n",
    "for f, f_data in ilp_fold_data.iteritems():\n",
    "    ilp_all_data.update(f_data)"
   ]
  },
  {
   "cell_type": "code",
   "execution_count": 12,
   "metadata": {
    "collapsed": false
   },
   "outputs": [],
   "source": [
    "# srl_all_data"
   ]
  },
  {
   "cell_type": "code",
   "execution_count": 13,
   "metadata": {
    "collapsed": true
   },
   "outputs": [],
   "source": [
    "analysis_data = {}\n",
    "for k, v in srl_all_data.iteritems():\n",
    "    gold_role = v[0]\n",
    "    srl_role = v[1][0]\n",
    "    srl_score = v[1][0]\n",
    "    ilp_role = ilp_all_data[k][1][0]\n",
    "    ilp_score = ilp_all_data[k][1][1]\n",
    "    analysis_data[k] = (gold_role, srl_role, ilp_role)"
   ]
  },
  {
   "cell_type": "code",
   "execution_count": 14,
   "metadata": {
    "collapsed": false
   },
   "outputs": [],
   "source": [
    "# analysis_data"
   ]
  },
  {
   "cell_type": "code",
   "execution_count": 15,
   "metadata": {
    "collapsed": false
   },
   "outputs": [],
   "source": [
    "all_data = []\n",
    "for key, data in analysis_data.iteritems():\n",
    "    gold_role, srl_role, ilp_role = data\n",
    "    process, sentence_text, role_text = id_text_map[key]\n",
    "    all_data.append([key, process, sentence_text, role_text, gold_role, srl_role, ilp_role])"
   ]
  },
  {
   "cell_type": "code",
   "execution_count": 16,
   "metadata": {
    "collapsed": false
   },
   "outputs": [],
   "source": [
    "analysis_df = pd.DataFrame(all_data)\n",
    "analysis_df.columns = ['key', 'process', 'sentence_text', 'role_text', 'gold_role', 'srl_role', 'ilp_role']"
   ]
  },
  {
   "cell_type": "code",
   "execution_count": 17,
   "metadata": {
    "collapsed": false
   },
   "outputs": [],
   "source": [
    "analysis_df.to_csv('analysys.csv', index=False)"
   ]
  },
  {
   "cell_type": "code",
   "execution_count": null,
   "metadata": {
    "collapsed": true
   },
   "outputs": [],
   "source": []
  }
 ],
 "metadata": {
  "kernelspec": {
   "display_name": "Python 2",
   "language": "python",
   "name": "python2"
  },
  "language_info": {
   "codemirror_mode": {
    "name": "ipython",
    "version": 2
   },
   "file_extension": ".py",
   "mimetype": "text/x-python",
   "name": "python",
   "nbconvert_exporter": "python",
   "pygments_lexer": "ipython2",
   "version": "2.7.6"
  }
 },
 "nbformat": 4,
 "nbformat_minor": 0
}
