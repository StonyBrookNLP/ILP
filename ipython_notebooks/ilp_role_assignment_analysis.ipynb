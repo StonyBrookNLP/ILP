{
 "cells": [
  {
   "cell_type": "code",
   "execution_count": 1,
   "metadata": {
    "collapsed": false
   },
   "outputs": [],
   "source": [
    "%matplotlib inline\n",
    "import sys\n",
    "sys.path.insert(0, '/home/cnaik/s/3/ilp')\n",
    "\n",
    "import numpy as np\n",
    "import operator\n",
    "from  utils import entailment\n",
    "import json\n",
    "from collections import defaultdict\n",
    "import matplotlib.pyplot as plt"
   ]
  },
  {
   "cell_type": "code",
   "execution_count": 2,
   "metadata": {
    "collapsed": true
   },
   "outputs": [],
   "source": [
    "process =  'evaporation'"
   ]
  },
  {
   "cell_type": "code",
   "execution_count": 3,
   "metadata": {
    "collapsed": true
   },
   "outputs": [],
   "source": [
    "def load_srl_data():\n",
    "    d = json.load(open(\"/home/cnaik/s/3/ilp/data/test.srlpredict.json\", \"r\"))\n",
    "    data = {}\n",
    "    for p_data in d:\n",
    "        process = p_data['process']\n",
    "        ss_data = p_data['sentences']\n",
    "        sent_to_id = {}\n",
    "        id_to_args = {}\n",
    "        arg_role_scores = {}\n",
    "        arg_role_srl_data = {}\n",
    "        for s_data in ss_data:\n",
    "            sentence = s_data['text']\n",
    "            s_id = s_data['sentenceId']\n",
    "            sent_to_id[sentence] = s_id\n",
    "            a_spans = s_data['predictionArgumentSpan']\n",
    "            args = []\n",
    "            for a_span in a_spans:\n",
    "                srl_role_prediction = a_span['rolePredicted']\n",
    "                start_idx = a_span['startIdx']\n",
    "                end_idx = a_span['endIdx']\n",
    "                arg_text = a_span['text']\n",
    "                arg_id = a_span['argId']\n",
    "                role_prob_list = a_span['probRoles']\n",
    "                args.append((arg_id, arg_text))\n",
    "                role_probs = {}\n",
    "                for role_prob in role_prob_list:\n",
    "                    role_probs.update(role_prob)\n",
    "                arg_role_scores[(s_id, arg_id)] = role_probs\n",
    "                arg_role_srl_data[(s_id, arg_id)] = [srl_role_prediction, start_idx, end_idx]\n",
    "            id_to_args[s_id] = args\n",
    "        data[process] = [sent_to_id, id_to_args, arg_role_scores, arg_role_srl_data]\n",
    "    return data"
   ]
  },
  {
   "cell_type": "code",
   "execution_count": 4,
   "metadata": {
    "collapsed": false
   },
   "outputs": [],
   "source": [
    "def get_arg(output_map, context):\n",
    "    for s, val in output_map.iteritems():\n",
    "        args = id_to_args[s]\n",
    "        for a, aval in val.iteritems():\n",
    "            arg = dict(args)[a]\n",
    "            if context == (s, a):\n",
    "                return arg\n",
    "    return None"
   ]
  },
  {
   "cell_type": "code",
   "execution_count": 5,
   "metadata": {
    "collapsed": true
   },
   "outputs": [],
   "source": [
    "def get_similarity_score(arg1, arg2):\n",
    "    ret = entailment.get_ai2_textual_entailment(arg1, arg2)\n",
    "    a_scores = map(lambda x: x['score'], ret['alignments'])\n",
    "    if len(a_scores):\n",
    "        mean_a_score = np.mean(a_scores)\n",
    "    else:\n",
    "        mean_a_score = 0\n",
    "\n",
    "    confidence = ret['confidence'] if ret['confidence'] else 0\n",
    "    score1 = mean_a_score * confidence\n",
    "\n",
    "    ret = entailment.get_ai2_textual_entailment(arg2, arg1)\n",
    "    a_scores = map(lambda x: x['score'], ret['alignments'])\n",
    "    if len(a_scores):\n",
    "        mean_a_score = np.mean(a_scores)\n",
    "    else:\n",
    "        mean_a_score = 0\n",
    "\n",
    "    confidence = ret['confidence'] if ret['confidence'] else 0\n",
    "    score2 = mean_a_score * confidence\n",
    "    return max(score1, score2)\n"
   ]
  },
  {
   "cell_type": "code",
   "execution_count": 6,
   "metadata": {
    "collapsed": false
   },
   "outputs": [],
   "source": [
    "srl_data = load_srl_data()"
   ]
  },
  {
   "cell_type": "code",
   "execution_count": 7,
   "metadata": {
    "collapsed": false
   },
   "outputs": [],
   "source": [
    "sent_to_id, id_to_args, arg_role_scores, arg_role_srl_data = srl_data[process]"
   ]
  },
  {
   "cell_type": "code",
   "execution_count": 8,
   "metadata": {
    "collapsed": false
   },
   "outputs": [],
   "source": [
    "sentences = {v: k for k, v in sent_to_id.iteritems()}"
   ]
  },
  {
   "cell_type": "code",
   "execution_count": 9,
   "metadata": {
    "collapsed": false
   },
   "outputs": [],
   "source": [
    "roles = ['undergoer', 'enabler', 'trigger', 'result', 'NONE']\n",
    "\n",
    "f = open(\"../output/\"+process+\"_ilp.sol\")\n",
    "lines = f.readlines()\n",
    "data = filter(lambda x: x.startswith('Z'), lines)\n",
    "data =  map(lambda x: x[:-1], data)"
   ]
  },
  {
   "cell_type": "code",
   "execution_count": 10,
   "metadata": {
    "collapsed": false
   },
   "outputs": [],
   "source": [
    "output_map = defaultdict(lambda: defaultdict(lambda: defaultdict(int)))\n",
    "for d in data:\n",
    "    var, ind = d.split(\" \")\n",
    "    var_ids = var.split(\"_\")\n",
    "    s = int(var_ids[1])\n",
    "    a = int(var_ids[2])\n",
    "    r = int(var_ids[3])\n",
    "    output_map[s][a][r] = int(ind)"
   ]
  },
  {
   "cell_type": "code",
   "execution_count": 11,
   "metadata": {
    "collapsed": false
   },
   "outputs": [
    {
     "name": "stdout",
     "output_type": "stream",
     "text": [
      "384\n",
      "Sentence: "
     ]
    },
    {
     "ename": "KeyError",
     "evalue": "384",
     "output_type": "error",
     "traceback": [
      "\u001b[1;31m---------------------------------------------------------------------------\u001b[0m",
      "\u001b[1;31mKeyError\u001b[0m                                  Traceback (most recent call last)",
      "\u001b[1;32m<ipython-input-11-7894ee5d2819>\u001b[0m in \u001b[0;36m<module>\u001b[1;34m()\u001b[0m\n\u001b[0;32m      1\u001b[0m \u001b[1;32mfor\u001b[0m \u001b[0ms\u001b[0m\u001b[1;33m,\u001b[0m \u001b[0mval\u001b[0m \u001b[1;32min\u001b[0m \u001b[0moutput_map\u001b[0m\u001b[1;33m.\u001b[0m\u001b[0miteritems\u001b[0m\u001b[1;33m(\u001b[0m\u001b[1;33m)\u001b[0m\u001b[1;33m:\u001b[0m\u001b[1;33m\u001b[0m\u001b[0m\n\u001b[0;32m      2\u001b[0m     \u001b[1;32mprint\u001b[0m \u001b[0ms\u001b[0m\u001b[1;33m\u001b[0m\u001b[0m\n\u001b[1;32m----> 3\u001b[1;33m     \u001b[1;32mprint\u001b[0m \u001b[1;34m\"Sentence: \"\u001b[0m\u001b[1;33m,\u001b[0m \u001b[0msentences\u001b[0m\u001b[1;33m[\u001b[0m\u001b[0ms\u001b[0m\u001b[1;33m]\u001b[0m\u001b[1;33m\u001b[0m\u001b[0m\n\u001b[0m\u001b[0;32m      4\u001b[0m     \u001b[0margs\u001b[0m \u001b[1;33m=\u001b[0m \u001b[0mid_to_args\u001b[0m\u001b[1;33m[\u001b[0m\u001b[0ms\u001b[0m\u001b[1;33m]\u001b[0m\u001b[1;33m\u001b[0m\u001b[0m\n\u001b[0;32m      5\u001b[0m     \u001b[1;32mfor\u001b[0m \u001b[0ma\u001b[0m\u001b[1;33m,\u001b[0m \u001b[0maval\u001b[0m \u001b[1;32min\u001b[0m \u001b[0mval\u001b[0m\u001b[1;33m.\u001b[0m\u001b[0miteritems\u001b[0m\u001b[1;33m(\u001b[0m\u001b[1;33m)\u001b[0m\u001b[1;33m:\u001b[0m\u001b[1;33m\u001b[0m\u001b[0m\n",
      "\u001b[1;31mKeyError\u001b[0m: 384"
     ]
    }
   ],
   "source": [
    "for s, val in output_map.iteritems():\n",
    "    print s\n",
    "    print \"Sentence: \", sentences[s]\n",
    "    args = id_to_args[s]\n",
    "    for a, aval in val.iteritems():\n",
    "        arg = dict(args)[a]\n",
    "        for r, i in aval.iteritems():\n",
    "            if i == 1:\n",
    "                print \"\\t\", arg, a, \" - \", roles[r]\n",
    "    print \" \"\n"
   ]
  },
  {
   "cell_type": "code",
   "execution_count": 12,
   "metadata": {
    "collapsed": false
   },
   "outputs": [
    {
     "name": "stdout",
     "output_type": "stream",
     "text": [
      "\n"
     ]
    }
   ],
   "source": [
    "def get_all_args(output_map, context):\n",
    "    all_args = set()\n",
    "    for s, val in output_map.iteritems():\n",
    "        args = id_to_args[s]\n",
    "        for a, aval in val.iteritems():\n",
    "            arg = dict(args)[a]\n",
    "            if (s, a) != context[:2]:\n",
    "                all_args.add((s, a, arg))\n",
    "    return list(all_args)"
   ]
  },
  {
   "cell_type": "code",
   "execution_count": 13,
   "metadata": {
    "collapsed": true
   },
   "outputs": [],
   "source": [
    "# arg = (299, 0, 'water')\n",
    "arg = (631, 1, 'losing')"
   ]
  },
  {
   "cell_type": "code",
   "execution_count": 14,
   "metadata": {
    "collapsed": false
   },
   "outputs": [
    {
     "ename": "KeyError",
     "evalue": "384",
     "output_type": "error",
     "traceback": [
      "\u001b[1;31m---------------------------------------------------------------------------\u001b[0m",
      "\u001b[1;31mKeyError\u001b[0m                                  Traceback (most recent call last)",
      "\u001b[1;32m<ipython-input-14-43c84908993e>\u001b[0m in \u001b[0;36m<module>\u001b[1;34m()\u001b[0m\n\u001b[1;32m----> 1\u001b[1;33m \u001b[0mall_args\u001b[0m \u001b[1;33m=\u001b[0m \u001b[0mget_all_args\u001b[0m\u001b[1;33m(\u001b[0m\u001b[0moutput_map\u001b[0m\u001b[1;33m,\u001b[0m \u001b[0marg\u001b[0m\u001b[1;33m)\u001b[0m\u001b[1;33m\u001b[0m\u001b[0m\n\u001b[0m",
      "\u001b[1;32m<ipython-input-12-7316692366af>\u001b[0m in \u001b[0;36mget_all_args\u001b[1;34m(output_map, context)\u001b[0m\n\u001b[0;32m      2\u001b[0m     \u001b[0mall_args\u001b[0m \u001b[1;33m=\u001b[0m \u001b[0mset\u001b[0m\u001b[1;33m(\u001b[0m\u001b[1;33m)\u001b[0m\u001b[1;33m\u001b[0m\u001b[0m\n\u001b[0;32m      3\u001b[0m     \u001b[1;32mfor\u001b[0m \u001b[0ms\u001b[0m\u001b[1;33m,\u001b[0m \u001b[0mval\u001b[0m \u001b[1;32min\u001b[0m \u001b[0moutput_map\u001b[0m\u001b[1;33m.\u001b[0m\u001b[0miteritems\u001b[0m\u001b[1;33m(\u001b[0m\u001b[1;33m)\u001b[0m\u001b[1;33m:\u001b[0m\u001b[1;33m\u001b[0m\u001b[0m\n\u001b[1;32m----> 4\u001b[1;33m         \u001b[0margs\u001b[0m \u001b[1;33m=\u001b[0m \u001b[0mid_to_args\u001b[0m\u001b[1;33m[\u001b[0m\u001b[0ms\u001b[0m\u001b[1;33m]\u001b[0m\u001b[1;33m\u001b[0m\u001b[0m\n\u001b[0m\u001b[0;32m      5\u001b[0m         \u001b[1;32mfor\u001b[0m \u001b[0ma\u001b[0m\u001b[1;33m,\u001b[0m \u001b[0maval\u001b[0m \u001b[1;32min\u001b[0m \u001b[0mval\u001b[0m\u001b[1;33m.\u001b[0m\u001b[0miteritems\u001b[0m\u001b[1;33m(\u001b[0m\u001b[1;33m)\u001b[0m\u001b[1;33m:\u001b[0m\u001b[1;33m\u001b[0m\u001b[0m\n\u001b[0;32m      6\u001b[0m             \u001b[0marg\u001b[0m \u001b[1;33m=\u001b[0m \u001b[0mdict\u001b[0m\u001b[1;33m(\u001b[0m\u001b[0margs\u001b[0m\u001b[1;33m)\u001b[0m\u001b[1;33m[\u001b[0m\u001b[0ma\u001b[0m\u001b[1;33m]\u001b[0m\u001b[1;33m\u001b[0m\u001b[0m\n",
      "\u001b[1;31mKeyError\u001b[0m: 384"
     ]
    }
   ],
   "source": [
    "all_args = get_all_args(output_map, arg)"
   ]
  },
  {
   "cell_type": "code",
   "execution_count": 15,
   "metadata": {
    "collapsed": false
   },
   "outputs": [
    {
     "ename": "NameError",
     "evalue": "name 'all_args' is not defined",
     "output_type": "error",
     "traceback": [
      "\u001b[1;31m---------------------------------------------------------------------------\u001b[0m",
      "\u001b[1;31mNameError\u001b[0m                                 Traceback (most recent call last)",
      "\u001b[1;32m<ipython-input-15-943fbde58491>\u001b[0m in \u001b[0;36m<module>\u001b[1;34m()\u001b[0m\n\u001b[1;32m----> 1\u001b[1;33m \u001b[0mall_args\u001b[0m\u001b[1;33m\u001b[0m\u001b[0m\n\u001b[0m",
      "\u001b[1;31mNameError\u001b[0m: name 'all_args' is not defined"
     ]
    }
   ],
   "source": [
    "all_args"
   ]
  },
  {
   "cell_type": "code",
   "execution_count": 438,
   "metadata": {
    "collapsed": false
   },
   "outputs": [],
   "source": [
    "my_data = {}\n",
    "for s_id, a_id, arg2 in all_args:\n",
    "    sim = get_similarity_score(arg[2], arg2)\n",
    "    my_data[(arg[0], arg[1], s_id, a_id)] = (arg[2], arg2, sim)"
   ]
  },
  {
   "cell_type": "code",
   "execution_count": 439,
   "metadata": {
    "collapsed": false
   },
   "outputs": [
    {
     "data": {
      "text/plain": [
       "{(631, 1, 21, 0): ('losing', u'number joining the liquid state', 0),\n",
       " (631, 1, 23, 0): ('losing', u'the pressure in a liquid-filled container', 0),\n",
       " (631, 1, 41, 0): ('losing',\n",
       "  u'make the water form clouds from water vapour and condensation',\n",
       "  0),\n",
       " (631, 1, 62, 0): ('losing',\n",
       "  u'the impingement of a second sound thermal pulse',\n",
       "  0),\n",
       " (631, 1, 62, 1): ('losing', u'caused', 0),\n",
       " (631, 1, 62, 2): ('losing', u'evaporation', 0),\n",
       " (631, 1, 62, 3): ('losing',\n",
       "  u'the impingement of a second sound thermal pulse onto a he iivapor interface',\n",
       "  0),\n",
       " (631, 1, 97, 0): ('losing', u'the conversion of water to gas', 0),\n",
       " (631, 1, 214, 0): ('losing', u'salt from seawater', 0),\n",
       " (631, 1, 229, 0): ('losing', u'water', 0),\n",
       " (631, 1, 272, 0): ('losing',\n",
       "  u'the water to cool rapidly to its freezing point and it solidifies suddenly .',\n",
       "  0),\n",
       " (631, 1, 340, 0): ('losing', u'adequate air movement over the lagoon', 0),\n",
       " (631, 1, 393, 0): ('losing', u'difference', 0),\n",
       " (631, 1, 470, 0): ('losing', u'primary', 0),\n",
       " (631, 1, 505, 0): ('losing', u'causes', 0),\n",
       " (631, 1, 505, 1): ('losing',\n",
       "  u'check the water level - splashing around , paired with evaporation',\n",
       "  0),\n",
       " (631, 1, 505, 2): ('losing', u'decrease', 0),\n",
       " (631, 1, 505, 3): ('losing', u'paired', 0),\n",
       " (631, 1, 505, 4): ('losing', u'evaporation', 0),\n",
       " (631, 1, 505, 5): ('losing', u'your water level', 0),\n",
       " (631, 1, 505, 6): ('losing', u'time', 0),\n",
       " (631, 1, 505, 7): ('losing', u'over', 0),\n",
       " (631, 1, 505, 8): ('losing', u'your water level to decrease over time', 0),\n",
       " (631, 1, 577, 0): ('losing', u'gas', 0),\n",
       " (631, 1, 577, 1): ('losing', u'liquid', 0),\n",
       " (631, 1, 577, 2): ('losing', u'turns', 0.00046248121170077474),\n",
       " (631, 1, 621, 0): ('losing', u'its vapours', 0),\n",
       " (631, 1, 631, 0): ('losing', u'transferred water', 0)}"
      ]
     },
     "execution_count": 439,
     "metadata": {},
     "output_type": "execute_result"
    }
   ],
   "source": [
    "my_data"
   ]
  },
  {
   "cell_type": "code",
   "execution_count": 440,
   "metadata": {
    "collapsed": false
   },
   "outputs": [],
   "source": [
    "def get_assignment(output_map, s_id, r_id):\n",
    "    role_map = {v: k for k, v in output_map[s_id][r_id].iteritems()}\n",
    "    if 1 in role_map:\n",
    "        return roles[role_map[1]]\n",
    "    else:\n",
    "        return 'NONE'\n",
    "        "
   ]
  },
  {
   "cell_type": "code",
   "execution_count": 441,
   "metadata": {
    "collapsed": false
   },
   "outputs": [],
   "source": [
    "sorted_data = sorted(my_data.items(), key=lambda i:i[1][2], reverse=True)"
   ]
  },
  {
   "cell_type": "code",
   "execution_count": 442,
   "metadata": {
    "collapsed": false
   },
   "outputs": [
    {
     "data": {
      "text/plain": [
       "[('losing', u'turns', 0.00046248121170077474),\n",
       " ('losing', u'difference', 0),\n",
       " ('losing',\n",
       "  u'the impingement of a second sound thermal pulse onto a he iivapor interface',\n",
       "  0),\n",
       " ('losing',\n",
       "  u'the water to cool rapidly to its freezing point and it solidifies suddenly .',\n",
       "  0),\n",
       " ('losing', u'causes', 0)]"
      ]
     },
     "execution_count": 442,
     "metadata": {},
     "output_type": "execute_result"
    }
   ],
   "source": [
    "map(lambda x: x[1], sorted_data[:min(len(sentences), 5)])"
   ]
  },
  {
   "cell_type": "code",
   "execution_count": 443,
   "metadata": {
    "collapsed": false
   },
   "outputs": [
    {
     "name": "stdout",
     "output_type": "stream",
     "text": [
      "trigger ('losing', u'turns', 0.00046248121170077474) trigger\n",
      "trigger ('losing', u'difference', 0) trigger\n",
      "trigger ('losing', u'the impingement of a second sound thermal pulse onto a he iivapor interface', 0) undergoer\n",
      "trigger ('losing', u'the water to cool rapidly to its freezing point and it solidifies suddenly .', 0) undergoer\n",
      "trigger ('losing', u'causes', 0) trigger\n"
     ]
    }
   ],
   "source": [
    "other_roles = defaultdict(int)\n",
    "for x in sorted_data[:min(len(sentences), 5)]:\n",
    "    ids, vals = x\n",
    "    s_id1, a_id1, s_id2, a_id2 = ids\n",
    "    original_role = get_assignment(output_map, s_id1, a_id1)\n",
    "    other_roles[get_assignment(output_map, s_id2, a_id2)] += 1\n",
    "    print original_role, vals, get_assignment(output_map, s_id2, a_id2)\n",
    "    "
   ]
  },
  {
   "cell_type": "code",
   "execution_count": 444,
   "metadata": {
    "collapsed": false
   },
   "outputs": [
    {
     "data": {
      "text/plain": [
       "defaultdict(int, {'trigger': 3, 'undergoer': 2})"
      ]
     },
     "execution_count": 444,
     "metadata": {},
     "output_type": "execute_result"
    }
   ],
   "source": [
    "other_roles"
   ]
  },
  {
   "cell_type": "code",
   "execution_count": 445,
   "metadata": {
    "collapsed": false
   },
   "outputs": [
    {
     "name": "stdout",
     "output_type": "stream",
     "text": [
      "trigger\n"
     ]
    },
    {
     "data": {
      "image/png": "[encoded data removed]",
      "text/plain": [
       "<matplotlib.figure.Figure at 0x7f77c8c1de50>"
      ]
     },
     "metadata": {},
     "output_type": "display_data"
    }
   ],
   "source": [
    "print original_role\n",
    "\n",
    "if original_role in other_roles:\n",
    "    original_role_count = other_roles[original_role]\n",
    "    other_roles.pop(original_role)\n",
    "else:\n",
    "    original_role_count = 0\n",
    "\n",
    "    \n",
    "plt.bar([0], [original_role_count], align='center')\n",
    "plt.bar(range(1, len(other_roles)+1), other_roles.values(), align='center', color='brown')\n",
    "plt.xticks(range(len(other_roles)+1), [original_role] + list(other_roles.keys()))\n",
    "\n",
    "# plt.bar(range(1, len(other_roles)+1), other_roles.values(), align='center')\n",
    "# plt.xticks(range(1, len(other_roles)+1), list(other_roles.keys()))\n",
    "\n",
    "plt.show()"
   ]
  },
  {
   "cell_type": "code",
   "execution_count": null,
   "metadata": {
    "collapsed": false
   },
   "outputs": [],
   "source": []
  },
  {
   "cell_type": "code",
   "execution_count": null,
   "metadata": {
    "collapsed": false
   },
   "outputs": [],
   "source": []
  },
  {
   "cell_type": "code",
   "execution_count": null,
   "metadata": {
    "collapsed": true
   },
   "outputs": [],
   "source": []
  },
  {
   "cell_type": "code",
   "execution_count": null,
   "metadata": {
    "collapsed": true
   },
   "outputs": [],
   "source": []
  }
 ],
 "metadata": {
  "kernelspec": {
   "display_name": "Python 2",
   "language": "python",
   "name": "python2"
  },
  "language_info": {
   "codemirror_mode": {
    "name": "ipython",
    "version": 2
   },
   "file_extension": ".py",
   "mimetype": "text/x-python",
   "name": "python",
   "nbconvert_exporter": "python",
   "pygments_lexer": "ipython2",
   "version": "2.7.6"
  }
 },
 "nbformat": 4,
 "nbformat_minor": 0
}
