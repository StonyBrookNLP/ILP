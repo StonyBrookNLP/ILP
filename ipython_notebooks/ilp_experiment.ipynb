{
 "cells": [
  {
   "cell_type": "code",
   "execution_count": 1,
   "metadata": {
    "collapsed": false
   },
   "outputs": [],
   "source": [
    "%matplotlib inline\n",
    "import sys\n",
    "sys.path.insert(0, '/home/cnaik/s/3/ilp')\n",
    "\n",
    "import numpy as np\n",
    "import operator\n",
    "from  utils import entailment\n",
    "import json\n",
    "from collections import defaultdict\n",
    "import matplotlib.pyplot as plt"
   ]
  },
  {
   "cell_type": "code",
   "execution_count": 2,
   "metadata": {
    "collapsed": true
   },
   "outputs": [],
   "source": [
    "process =  'evaporation'"
   ]
  },
  {
   "cell_type": "code",
   "execution_count": 3,
   "metadata": {
    "collapsed": true
   },
   "outputs": [],
   "source": [
    "def load_srl_data(srl_file):\n",
    "    d = json.load(open(srl_file, \"r\"))\n",
    "    data = {}\n",
    "    for p_data in d:\n",
    "        process = p_data['process']\n",
    "        ss_data = p_data['sentences']\n",
    "        sent_to_id = {}\n",
    "        id_to_args = {}\n",
    "        arg_role_scores = {}\n",
    "        arg_role_srl_data = {}\n",
    "        for s_data in ss_data:\n",
    "            sentence = s_data['text']\n",
    "            s_id = s_data['sentenceId']\n",
    "            sent_to_id[sentence] = s_id\n",
    "            a_spans = s_data['predictionArgumentSpan']\n",
    "            args = []\n",
    "            for a_span in a_spans:\n",
    "                srl_role_prediction = a_span['rolePredicted']\n",
    "                start_idx = a_span['startIdx']\n",
    "                end_idx = a_span['endIdx']\n",
    "                arg_text = a_span['text']\n",
    "                arg_id = a_span['argId']\n",
    "                role_prob_list = a_span['probRoles']\n",
    "                args.append((arg_id, arg_text))\n",
    "                role_probs = {}\n",
    "                for role_prob in role_prob_list:\n",
    "                    role_probs.update(role_prob)\n",
    "                arg_role_scores[(s_id, arg_id)] = role_probs\n",
    "                arg_role_srl_data[(s_id, arg_id)] = [srl_role_prediction, start_idx, end_idx]\n",
    "            id_to_args[s_id] = args\n",
    "        data[process] = [sent_to_id, id_to_args, arg_role_scores, arg_role_srl_data]\n",
    "    return data\n",
    "\n",
    "def get_sentences(p_data):\n",
    "    sent_to_id, id_to_args, arg_role_scores = p_data\n",
    "    return [(v, k) for k, v in sent_to_id.iteritems()]\n",
    "\n",
    "def get_sentence_args(sentence, p_data):\n",
    "    sent_to_id, id_to_args, arg_role_scores = p_data\n",
    "    s_id = sent_to_id[sentence]\n",
    "    return id_to_args[s_id]\n",
    "\n",
    "def get_role_scores(sentence, arg_id, role, p_data):\n",
    "    sent_to_id, id_to_args, arg_role_scores = p_data\n",
    "    s_id = sent_to_id[sentence]\n",
    "    return arg_role_scores[s_id, arg_id][role]\n",
    "\n",
    "def get_similarity_score(arg1, arg2):\n",
    "    ret = entailment.get_ai2_textual_entailment(arg1, arg2)\n",
    "    a_scores = map(lambda x: x['score'], ret['alignments'])\n",
    "    if len(a_scores):\n",
    "        mean_a_score = np.mean(a_scores)\n",
    "    else:\n",
    "        mean_a_score = 0\n",
    "\n",
    "    confidence = ret['confidence'] if ret['confidence'] else 0\n",
    "    score1 = mean_a_score * confidence\n",
    "\n",
    "    ret = entailment.get_ai2_textual_entailment(arg2, arg1)\n",
    "    a_scores = map(lambda x: x['score'], ret['alignments'])\n",
    "    if len(a_scores):\n",
    "        mean_a_score = np.mean(a_scores)\n",
    "    else:\n",
    "        mean_a_score = 0\n",
    "\n",
    "    confidence = ret['confidence'] if ret['confidence'] else 0\n",
    "    score2 = mean_a_score * confidence\n",
    "    return max(score1, score2)"
   ]
  },
  {
   "cell_type": "code",
   "execution_count": null,
   "metadata": {
    "collapsed": true
   },
   "outputs": [],
   "source": []
  },
  {
   "cell_type": "code",
   "execution_count": null,
   "metadata": {
    "collapsed": true
   },
   "outputs": [],
   "source": []
  },
  {
   "cell_type": "code",
   "execution_count": 4,
   "metadata": {
    "collapsed": true
   },
   "outputs": [],
   "source": [
    "srl_file = \"/home/cnaik/s/3/ilp/data/test.srlpredict.json\"\n",
    "def load_srl_data(srl_file):\n",
    "    d = json.load(open(srl_file, \"r\"))\n",
    "    data = {}\n",
    "    for p_data in d:\n",
    "        process = p_data['process']\n",
    "        ss_data = p_data['sentences']\n",
    "        sent_to_id = {}\n",
    "        id_to_args = {}\n",
    "        arg_role_scores = {}\n",
    "        arg_role_srl_data = {}\n",
    "        for s_data in ss_data:\n",
    "            sentence = s_data['text']\n",
    "            s_id = s_data['sentenceId']\n",
    "            sent_to_id[sentence] = s_id\n",
    "            a_spans = s_data['predictionArgumentSpan']\n",
    "            args = []\n",
    "            for a_span in a_spans:\n",
    "                srl_role_prediction = a_span['rolePredicted']\n",
    "                start_idx = a_span['startIdx']\n",
    "                end_idx = a_span['endIdx']\n",
    "                arg_text = a_span['text']\n",
    "                arg_id = a_span['argId']\n",
    "                role_prob_list = a_span['probRoles']\n",
    "                args.append((arg_id, arg_text))\n",
    "                role_probs = {}\n",
    "                for role_prob in role_prob_list:\n",
    "                    role_probs.update(role_prob)\n",
    "                arg_role_scores[(s_id, arg_id)] = role_probs\n",
    "                arg_role_srl_data[(s_id, arg_id)] = [srl_role_prediction, start_idx, end_idx]\n",
    "            id_to_args[s_id] = args\n",
    "        data[process] = [sent_to_id, id_to_args, arg_role_scores, arg_role_srl_data]\n",
    "    return data"
   ]
  },
  {
   "cell_type": "code",
   "execution_count": 5,
   "metadata": {
    "collapsed": false
   },
   "outputs": [],
   "source": [
    "def get_arg(output_map, context):\n",
    "    for s, val in output_map.iteritems():\n",
    "        args = id_to_args[s]\n",
    "        for a, aval in val.iteritems():\n",
    "            arg = dict(args)[a]\n",
    "            if context == (s, a):\n",
    "                return arg\n",
    "    return None"
   ]
  },
  {
   "cell_type": "code",
   "execution_count": 6,
   "metadata": {
    "collapsed": true
   },
   "outputs": [],
   "source": [
    "def get_similarity_score(arg1, arg2):\n",
    "    ret = entailment.get_ai2_textual_entailment(arg1, arg2)\n",
    "    a_scores = map(lambda x: x['score'], ret['alignments'])\n",
    "    if len(a_scores):\n",
    "        mean_a_score = np.mean(a_scores)\n",
    "    else:\n",
    "        mean_a_score = 0\n",
    "\n",
    "    confidence = ret['confidence'] if ret['confidence'] else 0\n",
    "    score1 = mean_a_score * confidence\n",
    "\n",
    "    ret = entailment.get_ai2_textual_entailment(arg2, arg1)\n",
    "    a_scores = map(lambda x: x['score'], ret['alignments'])\n",
    "    if len(a_scores):\n",
    "        mean_a_score = np.mean(a_scores)\n",
    "    else:\n",
    "        mean_a_score = 0\n",
    "\n",
    "    confidence = ret['confidence'] if ret['confidence'] else 0\n",
    "    score2 = mean_a_score * confidence\n",
    "    return max(score1, score2)\n"
   ]
  },
  {
   "cell_type": "code",
   "execution_count": 7,
   "metadata": {
    "collapsed": false
   },
   "outputs": [
    {
     "ename": "TypeError",
     "evalue": "load_srl_data() takes exactly 1 argument (0 given)",
     "output_type": "error",
     "traceback": [
      "\u001b[1;31m---------------------------------------------------------------------------\u001b[0m",
      "\u001b[1;31mTypeError\u001b[0m                                 Traceback (most recent call last)",
      "\u001b[1;32m<ipython-input-7-98fec2403491>\u001b[0m in \u001b[0;36m<module>\u001b[1;34m()\u001b[0m\n\u001b[1;32m----> 1\u001b[1;33m \u001b[0msrl_data\u001b[0m \u001b[1;33m=\u001b[0m \u001b[0mload_srl_data\u001b[0m\u001b[1;33m(\u001b[0m\u001b[1;33m)\u001b[0m\u001b[1;33m\u001b[0m\u001b[0m\n\u001b[0m",
      "\u001b[1;31mTypeError\u001b[0m: load_srl_data() takes exactly 1 argument (0 given)"
     ]
    }
   ],
   "source": [
    "srl_data = load_srl_data()"
   ]
  },
  {
   "cell_type": "code",
   "execution_count": 8,
   "metadata": {
    "collapsed": false
   },
   "outputs": [
    {
     "ename": "NameError",
     "evalue": "name 'srl_data' is not defined",
     "output_type": "error",
     "traceback": [
      "\u001b[1;31m---------------------------------------------------------------------------\u001b[0m",
      "\u001b[1;31mNameError\u001b[0m                                 Traceback (most recent call last)",
      "\u001b[1;32m<ipython-input-8-a8d6e6a36937>\u001b[0m in \u001b[0;36m<module>\u001b[1;34m()\u001b[0m\n\u001b[1;32m----> 1\u001b[1;33m \u001b[0msent_to_id\u001b[0m\u001b[1;33m,\u001b[0m \u001b[0mid_to_args\u001b[0m\u001b[1;33m,\u001b[0m \u001b[0marg_role_scores\u001b[0m\u001b[1;33m,\u001b[0m \u001b[0marg_role_srl_data\u001b[0m \u001b[1;33m=\u001b[0m \u001b[0msrl_data\u001b[0m\u001b[1;33m[\u001b[0m\u001b[0mprocess\u001b[0m\u001b[1;33m]\u001b[0m\u001b[1;33m\u001b[0m\u001b[0m\n\u001b[0m",
      "\u001b[1;31mNameError\u001b[0m: name 'srl_data' is not defined"
     ]
    }
   ],
   "source": [
    "sent_to_id, id_to_args, arg_role_scores, arg_role_srl_data = srl_data[process]"
   ]
  },
  {
   "cell_type": "code",
   "execution_count": 9,
   "metadata": {
    "collapsed": false
   },
   "outputs": [
    {
     "ename": "NameError",
     "evalue": "name 'sent_to_id' is not defined",
     "output_type": "error",
     "traceback": [
      "\u001b[1;31m---------------------------------------------------------------------------\u001b[0m",
      "\u001b[1;31mNameError\u001b[0m                                 Traceback (most recent call last)",
      "\u001b[1;32m<ipython-input-9-bad337de4cd7>\u001b[0m in \u001b[0;36m<module>\u001b[1;34m()\u001b[0m\n\u001b[1;32m----> 1\u001b[1;33m \u001b[0mid_to_sent\u001b[0m \u001b[1;33m=\u001b[0m \u001b[1;33m{\u001b[0m\u001b[0mv\u001b[0m\u001b[1;33m:\u001b[0m\u001b[0mk\u001b[0m \u001b[1;32mfor\u001b[0m \u001b[0mk\u001b[0m\u001b[1;33m,\u001b[0m \u001b[0mv\u001b[0m \u001b[1;32min\u001b[0m \u001b[0msent_to_id\u001b[0m\u001b[1;33m.\u001b[0m\u001b[0miteritems\u001b[0m\u001b[1;33m(\u001b[0m\u001b[1;33m)\u001b[0m\u001b[1;33m}\u001b[0m\u001b[1;33m\u001b[0m\u001b[0m\n\u001b[0m",
      "\u001b[1;31mNameError\u001b[0m: name 'sent_to_id' is not defined"
     ]
    }
   ],
   "source": [
    "id_to_sent = {v:k for k, v in sent_to_id.iteritems()}"
   ]
  },
  {
   "cell_type": "code",
   "execution_count": 10,
   "metadata": {
    "collapsed": false
   },
   "outputs": [
    {
     "ename": "NameError",
     "evalue": "name 'sent_to_id' is not defined",
     "output_type": "error",
     "traceback": [
      "\u001b[1;31m---------------------------------------------------------------------------\u001b[0m",
      "\u001b[1;31mNameError\u001b[0m                                 Traceback (most recent call last)",
      "\u001b[1;32m<ipython-input-10-b1b69df9fcdc>\u001b[0m in \u001b[0;36m<module>\u001b[1;34m()\u001b[0m\n\u001b[1;32m----> 1\u001b[1;33m \u001b[0msentences\u001b[0m \u001b[1;33m=\u001b[0m \u001b[1;33m{\u001b[0m\u001b[0mv\u001b[0m\u001b[1;33m:\u001b[0m \u001b[0mk\u001b[0m \u001b[1;32mfor\u001b[0m \u001b[0mk\u001b[0m\u001b[1;33m,\u001b[0m \u001b[0mv\u001b[0m \u001b[1;32min\u001b[0m \u001b[0msent_to_id\u001b[0m\u001b[1;33m.\u001b[0m\u001b[0miteritems\u001b[0m\u001b[1;33m(\u001b[0m\u001b[1;33m)\u001b[0m\u001b[1;33m}\u001b[0m\u001b[1;33m\u001b[0m\u001b[0m\n\u001b[0m",
      "\u001b[1;31mNameError\u001b[0m: name 'sent_to_id' is not defined"
     ]
    }
   ],
   "source": [
    "sentences = {v: k for k, v in sent_to_id.iteritems()}"
   ]
  },
  {
   "cell_type": "code",
   "execution_count": 11,
   "metadata": {
    "collapsed": false
   },
   "outputs": [],
   "source": [
    "roles = ['undergoer', 'enabler', 'trigger', 'result', 'NONE']\n",
    "\n",
    "f = open(\"../output/\"+process+\"_ilp.sol\")\n",
    "lines = f.readlines()\n",
    "data = filter(lambda x: x.startswith('Z'), lines)\n",
    "data =  map(lambda x: x[:-1], data)"
   ]
  },
  {
   "cell_type": "code",
   "execution_count": 12,
   "metadata": {
    "collapsed": false
   },
   "outputs": [],
   "source": [
    "output_map = defaultdict(lambda: defaultdict(lambda: defaultdict(int)))\n",
    "for d in data:\n",
    "    var, ind = d.split(\" \")\n",
    "    var_ids = var.split(\"_\")\n",
    "    s = int(var_ids[1])\n",
    "    a = int(var_ids[2])\n",
    "    r = int(var_ids[3])\n",
    "    output_map[s][a][r] = int(ind)"
   ]
  },
  {
   "cell_type": "code",
   "execution_count": 27,
   "metadata": {
    "collapsed": true
   },
   "outputs": [],
   "source": [
    "def get_sentences(p_data):\n",
    "    sent_to_id, id_to_args, arg_role_scores = p_data\n",
    "    return [(v, k) for k, v in sent_to_id.iteritems()]"
   ]
  },
  {
   "cell_type": "code",
   "execution_count": 28,
   "metadata": {
    "collapsed": true
   },
   "outputs": [],
   "source": [
    "def get_sentence_args(sentence, p_data):\n",
    "    sent_to_id, id_to_args, arg_role_scores = p_data\n",
    "    s_id = sent_to_id[sentence]\n",
    "    return id_to_args[s_id]"
   ]
  },
  {
   "cell_type": "code",
   "execution_count": 30,
   "metadata": {
    "collapsed": true
   },
   "outputs": [],
   "source": [
    "def get_role_scores(sentence, arg_id, role, p_data):\n",
    "    sent_to_id, id_to_args, arg_role_scores = p_data\n",
    "    s_id = sent_to_id[sentence]\n",
    "    return arg_role_scores[s_id, arg_id][role]"
   ]
  },
  {
   "cell_type": "code",
   "execution_count": 33,
   "metadata": {
    "collapsed": true
   },
   "outputs": [],
   "source": [
    "def get_similarity_score(arg1, arg2):\n",
    "    ret = entailment.get_ai2_textual_entailment(arg1, arg2)\n",
    "    a_scores = map(lambda x: x['score'], ret['alignments'])\n",
    "    if len(a_scores):\n",
    "        mean_a_score = np.mean(a_scores)\n",
    "    else:\n",
    "        mean_a_score = 0\n",
    "\n",
    "    confidence = ret['confidence'] if ret['confidence'] else 0\n",
    "    score1 = mean_a_score * confidence\n",
    "\n",
    "    ret = entailment.get_ai2_textual_entailment(arg2, arg1)\n",
    "    a_scores = map(lambda x: x['score'], ret['alignments'])\n",
    "    if len(a_scores):\n",
    "        mean_a_score = np.mean(a_scores)\n",
    "    else:\n",
    "        mean_a_score = 0\n",
    "\n",
    "    confidence = ret['confidence'] if ret['confidence'] else 0\n",
    "    score2 = mean_a_score * confidence\n",
    "    return max(score1, score2)"
   ]
  },
  {
   "cell_type": "code",
   "execution_count": 31,
   "metadata": {
    "collapsed": false
   },
   "outputs": [],
   "source": [
    "# Integer Linear Programming for Joint Inference.\n",
    "p_data = srl_data[process][:3]\n",
    "\n",
    "sentences = get_sentences(p_data)\n",
    "\n",
    "lambda_1 = 0.9\n",
    "lambda_2 = 1 - lambda_1\n",
    "\n",
    "role_score_vars = {}\n",
    "\n",
    "for s_id, sentence in sentences:\n",
    "    args = get_sentence_args(sentence, p_data)\n",
    "    for a_id, arg in args:\n",
    "        for r_id, role in enumerate(roles[:4]):\n",
    "            role_score = get_role_scores(sentence, a_id, role, p_data)\n",
    "            # data: role classifier scores\n",
    "            role_score_vars[s_id, a_id, r_id] = role_score            "
   ]
  },
  {
   "cell_type": "code",
   "execution_count": 32,
   "metadata": {
    "collapsed": false
   },
   "outputs": [
    {
     "data": {
      "text/plain": [
       "{(21, 0, 0): 0.1807751121371668,\n",
       " (21, 0, 1): 0.15015688404441685,\n",
       " (21, 0, 2): 0.003585451703218445,\n",
       " (21, 0, 3): 0.040318862092067205,\n",
       " (23, 0, 0): 0.15786094076412716,\n",
       " (23, 0, 1): 0.05161655673880439,\n",
       " (23, 0, 2): 0.029092096361856612,\n",
       " (23, 0, 3): 0.04165401436523114,\n",
       " (41, 0, 0): 0.005450130390077135,\n",
       " (41, 0, 1): 0.005367232762490959,\n",
       " (41, 0, 2): 0.053657507799292126,\n",
       " (41, 0, 3): 0.9227275271664176,\n",
       " (62, 0, 0): 0.03278797713317905,\n",
       " (62, 0, 1): 0.7794224685978454,\n",
       " (62, 0, 2): 0.01241042533108172,\n",
       " (62, 0, 3): 0.010792789673365591,\n",
       " (62, 1, 0): 0.0010399857532388257,\n",
       " (62, 1, 1): 0.0035502172477538396,\n",
       " (62, 1, 2): 0.05011514332346223,\n",
       " (62, 1, 3): 0.004384997973040028,\n",
       " (62, 2, 0): 0.023559631911904355,\n",
       " (62, 2, 1): 0.0190756637261007,\n",
       " (62, 2, 2): 0.02392717460719851,\n",
       " (62, 2, 3): 0.0014319718133875082,\n",
       " (62, 3, 0): 0.15191941099531447,\n",
       " (62, 3, 1): 0.37218367636209915,\n",
       " (62, 3, 2): 0.009465212492560493,\n",
       " (62, 3, 3): 0.021345326391745554,\n",
       " (97, 0, 0): 0.013489166874428249,\n",
       " (97, 0, 1): 0.4106942267587559,\n",
       " (97, 0, 2): 0.036438198493527474,\n",
       " (97, 0, 3): 0.14684978928650858,\n",
       " (214, 0, 0): 0.06237194244256261,\n",
       " (214, 0, 1): 0.01988847778637226,\n",
       " (214, 0, 2): 0.04957334644264888,\n",
       " (214, 0, 3): 0.5732118475968004,\n",
       " (229, 0, 0): 0.697532608440449,\n",
       " (229, 0, 1): 0.02489551051210459,\n",
       " (229, 0, 2): 0.030988220735125638,\n",
       " (229, 0, 3): 0.053865582294483565,\n",
       " (272, 0, 0): 0.017592834170124805,\n",
       " (272, 0, 1): 0.007092764667617879,\n",
       " (272, 0, 2): 0.0604462988694201,\n",
       " (272, 0, 3): 0.19322389236899726,\n",
       " (340, 0, 0): 0.026003375511839177,\n",
       " (340, 0, 1): 0.6251434916086251,\n",
       " (340, 0, 2): 0.05353922494452312,\n",
       " (340, 0, 3): 0.12493156125539141,\n",
       " (393, 0, 0): 0.0004959289696970792,\n",
       " (393, 0, 1): 0.04557670228256894,\n",
       " (393, 0, 2): 0.3803090718189902,\n",
       " (393, 0, 3): 0.004135815307857476,\n",
       " (470, 0, 0): 0.11546417792766783,\n",
       " (470, 0, 1): 0.02845461977134711,\n",
       " (470, 0, 2): 0.054511885393797366,\n",
       " (470, 0, 3): 0.07394998815199774,\n",
       " (505, 0, 0): 0.007027624093849272,\n",
       " (505, 0, 1): 0.007953390953637784,\n",
       " (505, 0, 2): 0.06280862513037577,\n",
       " (505, 0, 3): 0.03502408167686299,\n",
       " (505, 1, 0): 0.012813738278536158,\n",
       " (505, 1, 1): 0.004509526754822635,\n",
       " (505, 1, 2): 0.027503087458224273,\n",
       " (505, 1, 3): 0.240208504456227,\n",
       " (505, 2, 0): 0.007251390838302396,\n",
       " (505, 2, 1): 0.012429631154652232,\n",
       " (505, 2, 2): 0.020283762380771897,\n",
       " (505, 2, 3): 0.6322941860762089,\n",
       " (505, 3, 0): 0.03947977714713047,\n",
       " (505, 3, 1): 0.029563017841236827,\n",
       " (505, 3, 2): 0.03415430065037728,\n",
       " (505, 3, 3): 0.03368929915825041,\n",
       " (505, 4, 0): 0.015758570904500946,\n",
       " (505, 4, 1): 0.013312831878224851,\n",
       " (505, 4, 2): 0.02176094173456411,\n",
       " (505, 4, 3): 0.030202370854791494,\n",
       " (505, 5, 0): 0.08727869986518888,\n",
       " (505, 5, 1): 0.01034231755115389,\n",
       " (505, 5, 2): 0.007097269354909175,\n",
       " (505, 5, 3): 0.39109844092289925,\n",
       " (505, 6, 0): 0.041488082946921856,\n",
       " (505, 6, 1): 0.07863259695842695,\n",
       " (505, 6, 2): 0.014135601541409026,\n",
       " (505, 6, 3): 0.35471361619025715,\n",
       " (505, 7, 0): 0.0390887838218309,\n",
       " (505, 7, 1): 0.03020305565124104,\n",
       " (505, 7, 2): 0.036056588161383574,\n",
       " (505, 7, 3): 0.255616156446282,\n",
       " (505, 8, 0): 0.041488082946921856,\n",
       " (505, 8, 1): 0.07863259695842695,\n",
       " (505, 8, 2): 0.014135601541409026,\n",
       " (505, 8, 3): 0.35471361619025715,\n",
       " (577, 0, 0): 0.04487927961377858,\n",
       " (577, 0, 1): 0.028508624921673054,\n",
       " (577, 0, 2): 0.019994805954731354,\n",
       " (577, 0, 3): 0.9297076837270035,\n",
       " (577, 1, 0): 0.9189995065737686,\n",
       " (577, 1, 1): 0.0025035595136331246,\n",
       " (577, 1, 2): 0.03259556471892744,\n",
       " (577, 1, 3): 0.1839111729193989,\n",
       " (577, 2, 0): 0.015037418756547405,\n",
       " (577, 2, 1): 0.006121867629877542,\n",
       " (577, 2, 2): 0.8821628181137166,\n",
       " (577, 2, 3): 0.02041397357522191,\n",
       " (621, 0, 0): 0.06924931509192744,\n",
       " (621, 0, 1): 0.029446772524901133,\n",
       " (621, 0, 2): 0.029973644316842463,\n",
       " (621, 0, 3): 0.7211381400887585,\n",
       " (631, 0, 0): 0.706713492911256,\n",
       " (631, 0, 1): 0.03595790061343396,\n",
       " (631, 0, 2): 0.013532048979619238,\n",
       " (631, 0, 3): 0.09927535469727028,\n",
       " (631, 1, 0): 0.002421646548475098,\n",
       " (631, 1, 1): 0.006767446018271728,\n",
       " (631, 1, 2): 0.9630646094093773,\n",
       " (631, 1, 3): 0.026884268067493534}"
      ]
     },
     "execution_count": 32,
     "metadata": {},
     "output_type": "execute_result"
    }
   ],
   "source": [
    "role_score_vars"
   ]
  },
  {
   "cell_type": "code",
   "execution_count": null,
   "metadata": {
    "collapsed": true
   },
   "outputs": [],
   "source": [
    "# # DEBUG\n",
    "\n",
    "# ilp_score = {}\n",
    "# for s_1, val_1 in output_map.iteritems():\n",
    "#     args_1 = id_to_args[s_1]\n",
    "#     for a_1, aval_1 in val_1.iteritems():\n",
    "#         arg_1 = dict(args_1)[a_1]\n",
    "#         for r, rv_1 in aval_1.iteritems():\n",
    "# #             print s_1, a_1, r\n",
    "#             # iterate through all other sentences\n",
    "#             tmp = 0\n",
    "#             for s_2, val_2 in output_map.iteritems():\n",
    "#                 if s_1 != s_2:\n",
    "#                     args_2 = id_to_args[s_2]\n",
    "#                     for a_2, aval_2 in val_2.iteritems():\n",
    "#                         arg_2 = dict(args_2)[a_2]\n",
    "#                         rv_2 = aval_2[r]\n",
    "#                         tmp += rv_2 * float(get_similarity_score(arg_1, arg_2))\n",
    "# #                         print '\\t', rv_2, float(get_similarity_score(arg_1, arg_2))\n",
    "# #                         print '\\t\\t', arg_1, arg_2\n",
    "#             #\n",
    "# #             print tmp, lambda_2 * tmp\n",
    "#             ilp_score[s_1, a_1, r] = (float(role_score_vars[s_1, a_1, r]) * lambda_1) + (lambda_2 * tmp)\n",
    "# #             ilp_score[s_1, a_1, r] = rv_1 * ((float(role_score_vars[s_1, a_1, r]) * lambda_1) + (lambda_2 * tmp))\n",
    "                    "
   ]
  },
  {
   "cell_type": "code",
   "execution_count": 51,
   "metadata": {
    "collapsed": false
   },
   "outputs": [],
   "source": [
    "ilp_score = defaultdict(lambda: defaultdict(lambda: defaultdict(int)))\n",
    "for s_1, val_1 in output_map.iteritems():\n",
    "    args_1 = id_to_args[s_1]\n",
    "    for a_1, aval_1 in val_1.iteritems():\n",
    "        arg_1 = dict(args_1)[a_1]\n",
    "        for r, rv_1 in aval_1.iteritems():\n",
    "            # iterate through all other sentences\n",
    "            tmp = 0\n",
    "            for s_2, val_2 in output_map.iteritems():\n",
    "                if s_1 != s_2:\n",
    "                    args_2 = id_to_args[s_2]\n",
    "                    for a_2, aval_2 in val_2.iteritems():\n",
    "                        arg_2 = dict(args_2)[a_2]\n",
    "                        rv_2 = aval_2[r]\n",
    "                        tmp += rv_2 * float(get_similarity_score(arg_1, arg_2))\n",
    "            #\n",
    "            ilp_score[s_1][a_1][r] = (float(role_score_vars[s_1, a_1, r]) * lambda_1) + (lambda_2 * tmp)"
   ]
  },
  {
   "cell_type": "code",
   "execution_count": 58,
   "metadata": {
    "collapsed": false
   },
   "outputs": [],
   "source": [
    "norm_ilp_score = defaultdict(lambda: defaultdict(int))\n",
    "for s_id, s_data in ilp_score.iteritems():\n",
    "    for a_id, a_data in s_data.iteritems():\n",
    "        denom = sum(a_data.values())\n",
    "        norm_vals = dict(map(lambda x: (x[0], x[1]/denom), a_data.items()))\n",
    "        norm_ilp_score[s_id][a_id]= norm_vals\n",
    "#         print dict(a_data)\n",
    "#         print denom\n",
    "#         print norm_vals\n",
    "#         print sum(norm_vals.values())\n",
    "        \n",
    "        "
   ]
  },
  {
   "cell_type": "code",
   "execution_count": 59,
   "metadata": {
    "collapsed": false
   },
   "outputs": [
    {
     "data": {
      "text/plain": [
       "defaultdict(<function __main__.<lambda>>,\n",
       "            {21: defaultdict(int,\n",
       "                         {0: {0: 0.6042989171378661,\n",
       "                           1: 0.27519290597222257,\n",
       "                           2: 0.005739294584187134,\n",
       "                           3: 0.11476888230572425}}),\n",
       "             23: defaultdict(int,\n",
       "                         {0: {0: 0.532756681841807,\n",
       "                           1: 0.20459950770847152,\n",
       "                           2: 0.1384072895725638,\n",
       "                           3: 0.1242365208771576}}),\n",
       "             41: defaultdict(int,\n",
       "                         {0: {0: 0.22347942850934127,\n",
       "                           1: 0.018544032468316905,\n",
       "                           2: 0.04286964365328938,\n",
       "                           3: 0.7151068953690525}}),\n",
       "             62: defaultdict(int,\n",
       "                         {0: {0: 0.09379823106013217,\n",
       "                           1: 0.8728850131822985,\n",
       "                           2: 0.013775650664518664,\n",
       "                           3: 0.01954110509305053},\n",
       "                          1: {0: 0.10725995586546702,\n",
       "                           1: 0.018622742312186743,\n",
       "                           2: 0.8447294047723826,\n",
       "                           3: 0.02938789704996379},\n",
       "                          2: {0: 0.28174825533273024,\n",
       "                           1: 0.2281247429603109,\n",
       "                           2: 0.286143676854876,\n",
       "                           3: 0.2039833248520829},\n",
       "                          3: {0: 0.31854569486315926,\n",
       "                           1: 0.5853441889424107,\n",
       "                           2: 0.014598995741982455,\n",
       "                           3: 0.08151112045244752}}),\n",
       "             97: defaultdict(int,\n",
       "                         {0: {0: 0.3073258254500334,\n",
       "                           1: 0.4036381940215802,\n",
       "                           2: 0.03234849140014266,\n",
       "                           3: 0.2566874891282436}}),\n",
       "             214: defaultdict(int,\n",
       "                         {0: {0: 0.39376169687866147,\n",
       "                           1: 0.018209897612057737,\n",
       "                           2: 0.04538937432538237,\n",
       "                           3: 0.5426390311838984}}),\n",
       "             229: defaultdict(int,\n",
       "                         {0: {0: 0.792914250864364,\n",
       "                           1: 0.08478824510036065,\n",
       "                           2: 0.019459556886896573,\n",
       "                           3: 0.10283794714837896}}),\n",
       "             272: defaultdict(int,\n",
       "                         {0: {0: 0.4590351224544513,\n",
       "                           1: 0.04205590517301762,\n",
       "                           2: 0.11896696050973149,\n",
       "                           3: 0.37994201186279963}}),\n",
       "             340: defaultdict(int,\n",
       "                         {0: {0: 0.24220785721304824,\n",
       "                           1: 0.599422235681982,\n",
       "                           2: 0.04316047205700899,\n",
       "                           3: 0.11520943504796075}}),\n",
       "             393: defaultdict(int,\n",
       "                         {0: {0: 0.0011571218790673522,\n",
       "                           1: 0.10586436961386933,\n",
       "                           2: 0.8833719450990483,\n",
       "                           3: 0.009606563408015046}}),\n",
       "             470: defaultdict(int,\n",
       "                         {0: {0: 0.4239073844703578,\n",
       "                           1: 0.10446636922255284,\n",
       "                           2: 0.20013125433854012,\n",
       "                           3: 0.2714949919685492}}),\n",
       "             505: defaultdict(int,\n",
       "                         {0: {0: 0.10823143577387684,\n",
       "                           1: 0.03259504042706085,\n",
       "                           2: 0.7109902229467402,\n",
       "                           3: 0.14818330085232212},\n",
       "                          1: {0: 0.36480867572378245,\n",
       "                           1: 0.040471169513644815,\n",
       "                           2: 0.04130741734760084,\n",
       "                           3: 0.553412737414972},\n",
       "                          2: {0: 0.010945902769719212,\n",
       "                           1: 0.018448317977158863,\n",
       "                           2: 0.030105583465648914,\n",
       "                           3: 0.940500195787473},\n",
       "                          3: {0: 0.29883919994456754,\n",
       "                           1: 0.21280309019788107,\n",
       "                           2: 0.24585246205174657,\n",
       "                           3: 0.24250524780580465},\n",
       "                          4: {0: 0.07584592683793231,\n",
       "                           1: 0.06407459653293426,\n",
       "                           2: 0.104735309104257,\n",
       "                           3: 0.7553441675248764},\n",
       "                          5: {0: 0.42836760359255166,\n",
       "                           1: 0.057050595949298344,\n",
       "                           2: 0.008638097343772754,\n",
       "                           3: 0.5059437031143772},\n",
       "                          6: {0: 0.08603809943982432,\n",
       "                           1: 0.16162295960766573,\n",
       "                           2: 0.030110481382370845,\n",
       "                           3: 0.7222284595701391},\n",
       "                          7: {0: 0.08280194091743161,\n",
       "                           1: 0.2993464145721862,\n",
       "                           2: 0.07637882765121047,\n",
       "                           3: 0.5414728168591717},\n",
       "                          8: {0: 0.37277965176821887,\n",
       "                           1: 0.13999492003836891,\n",
       "                           2: 0.019251424836746026,\n",
       "                           3: 0.46797400335666617}}),\n",
       "             577: defaultdict(int,\n",
       "                         {0: {0: 0.15794536837057474,\n",
       "                           1: 0.02947343474767568,\n",
       "                           2: 0.017107887502283776,\n",
       "                           3: 0.7954733093794659},\n",
       "                          1: {0: 0.8386230401610598,\n",
       "                           1: 0.0017474653468851512,\n",
       "                           2: 0.022473676645117544,\n",
       "                           3: 0.1371558178469376},\n",
       "                          2: {0: 0.018946889998544693,\n",
       "                           1: 0.006648046767435829,\n",
       "                           2: 0.952125633150723,\n",
       "                           3: 0.02227943008329653}}),\n",
       "             621: defaultdict(int,\n",
       "                         {0: {0: 0.13466011826347687,\n",
       "                           1: 0.032645169831235374,\n",
       "                           2: 0.033229268448924876,\n",
       "                           3: 0.799465443456363}}),\n",
       "             631: defaultdict(int,\n",
       "                         {0: {0: 0.8154861141718404,\n",
       "                           1: 0.06959025324700407,\n",
       "                           2: 0.010984201667890258,\n",
       "                           3: 0.10393943091326537},\n",
       "                          1: {0: 0.0024236112323311686,\n",
       "                           1: 0.006772936452847036,\n",
       "                           2: 0.9638973730183165,\n",
       "                           3: 0.02690607929650535}})})"
      ]
     },
     "execution_count": 59,
     "metadata": {},
     "output_type": "execute_result"
    }
   ],
   "source": [
    "norm_ilp_score"
   ]
  },
  {
   "cell_type": "code",
   "execution_count": 44,
   "metadata": {
    "collapsed": false
   },
   "outputs": [
    {
     "data": {
      "text/plain": [
       "{(21, 0, 0): 0.33997801480561685,\n",
       " (21, 0, 1): 0.15482327571287063,\n",
       " (21, 0, 2): 0.0032289218527118612,\n",
       " (21, 0, 3): 0.06456886759381328,\n",
       " (23, 0, 0): 0.1863207155266962,\n",
       " (23, 0, 1): 0.07155447875540982,\n",
       " (23, 0, 2): 0.04840510894789317,\n",
       " (23, 0, 3): 0.043449173428204306,\n",
       " (41, 0, 0): 0.26430753166179854,\n",
       " (41, 0, 1): 0.021931895393907448,\n",
       " (41, 0, 2): 0.05070162284197977,\n",
       " (41, 0, 3): 0.8457518423510104,\n",
       " (62, 0, 0): 0.07614868538983796,\n",
       " (62, 0, 1): 0.7086385905050964,\n",
       " (62, 0, 2): 0.011183555133574455,\n",
       " (62, 0, 3): 0.015864152735956386,\n",
       " (62, 1, 0): 0.018424649309434212,\n",
       " (62, 1, 1): 0.0031989337820758092,\n",
       " (62, 1, 2): 0.145103947868667,\n",
       " (62, 1, 3): 0.005048125301920489,\n",
       " (62, 2, 0): 0.02120366872071392,\n",
       " (62, 2, 1): 0.01716809735349063,\n",
       " (62, 2, 2): 0.02153445714647866,\n",
       " (62, 2, 3): 0.015351274632048755,\n",
       " (62, 3, 0): 0.18618451611013667,\n",
       " (62, 3, 1): 0.3421236774929248,\n",
       " (62, 3, 2): 0.00853286357890535,\n",
       " (62, 3, 3): 0.0476418572398329,\n",
       " (97, 0, 0): 0.31352486991931844,\n",
       " (97, 0, 1): 0.41177994751911856,\n",
       " (97, 0, 2): 0.03300099021442266,\n",
       " (97, 0, 3): 0.261865111794627,\n",
       " (214, 0, 0): 0.38705262574782284,\n",
       " (214, 0, 1): 0.017899630007735035,\n",
       " (214, 0, 2): 0.044616011798383995,\n",
       " (214, 0, 3): 0.5333933277865363,\n",
       " (229, 0, 0): 1.1448219008663383,\n",
       " (229, 0, 1): 0.12241858412949656,\n",
       " (229, 0, 2): 0.02809601023186101,\n",
       " (229, 0, 3): 0.1484790240650352,\n",
       " (272, 0, 0): 0.263696964734568,\n",
       " (272, 0, 1): 0.024159403062649073,\n",
       " (272, 0, 2): 0.0683416689824781,\n",
       " (272, 0, 3): 0.21826119702486818,\n",
       " (340, 0, 0): 0.2706402736208559,\n",
       " (340, 0, 1): 0.6697875112147982,\n",
       " (340, 0, 2): 0.04822701501726898,\n",
       " (340, 0, 3): 0.12873369751030758,\n",
       " (393, 0, 0): 0.00044834744325527285,\n",
       " (393, 0, 1): 0.041019032054312045,\n",
       " (393, 0, 2): 0.3422781646370912,\n",
       " (393, 0, 3): 0.0037222337770717283,\n",
       " (470, 0, 0): 0.10391776013490105,\n",
       " (470, 0, 1): 0.0256091577942124,\n",
       " (470, 0, 2): 0.04906069685441763,\n",
       " (470, 0, 3): 0.06655498933679797,\n",
       " (505, 0, 0): 0.023827696151584518,\n",
       " (505, 0, 1): 0.007175962452972267,\n",
       " (505, 0, 2): 0.1565280814948892,\n",
       " (505, 0, 3): 0.032623300635361153,\n",
       " (505, 1, 0): 0.22043019633168512,\n",
       " (505, 1, 1): 0.024454100012742813,\n",
       " (505, 1, 2): 0.02495939028264978,\n",
       " (505, 1, 3): 0.33439138507002597,\n",
       " (505, 2, 0): 0.006637362865583268,\n",
       " (505, 2, 1): 0.01118666803918701,\n",
       " (505, 2, 2): 0.01825538614269471,\n",
       " (505, 2, 3): 0.5702993353698226,\n",
       " (505, 3, 0): 0.03736378890112162,\n",
       " (505, 3, 1): 0.026606716057113147,\n",
       " (505, 3, 2): 0.030738870585339553,\n",
       " (505, 3, 3): 0.03032036924242537,\n",
       " (505, 4, 0): 0.014182713814050852,\n",
       " (505, 4, 1): 0.011981548690402367,\n",
       " (505, 4, 2): 0.0195848475611077,\n",
       " (505, 4, 3): 0.14124463376931232,\n",
       " (505, 5, 0): 0.3270074218728185,\n",
       " (505, 5, 1): 0.04355130533034618,\n",
       " (505, 5, 2): 0.006594153989666191,\n",
       " (505, 5, 3): 0.38622749381763927,\n",
       " (505, 6, 0): 0.03804291155031916,\n",
       " (505, 6, 1): 0.0714637817070287,\n",
       " (505, 6, 2): 0.013313757363599485,\n",
       " (505, 6, 3): 0.3193431001549116,\n",
       " (505, 7, 0): 0.03517990543964781,\n",
       " (505, 7, 1): 0.1271827500861169,\n",
       " (505, 7, 2): 0.03245092934524522,\n",
       " (505, 7, 3): 0.2300545408016538,\n",
       " (505, 8, 0): 0.26180495551254956,\n",
       " (505, 8, 1): 0.09831911060268017,\n",
       " (505, 8, 2): 0.01352036893384742,\n",
       " (505, 8, 3): 0.32866040983910516,\n",
       " (577, 0, 0): 0.16613847223609352,\n",
       " (577, 0, 1): 0.031002310932222825,\n",
       " (577, 0, 2): 0.01799532535925822,\n",
       " (577, 0, 3): 0.8367369153543032,\n",
       " (577, 1, 0): 1.0946963779361383,\n",
       " (577, 1, 1): 0.002281053458102828,\n",
       " (577, 1, 2): 0.029336008247034695,\n",
       " (577, 1, 3): 0.17903631288388616,\n",
       " (577, 2, 0): 0.015800127111171756,\n",
       " (577, 2, 1): 0.005543916915893252,\n",
       " (577, 2, 2): 0.793993422178617,\n",
       " (577, 2, 3): 0.018579187787947656,\n",
       " (621, 0, 0): 0.10932016289277022,\n",
       " (621, 0, 1): 0.02650209527241102,\n",
       " (621, 0, 2): 0.026976279885158216,\n",
       " (621, 0, 3): 0.6490243260798827,\n",
       " (631, 0, 0): 0.9384568478869146,\n",
       " (631, 0, 1): 0.08008407325507678,\n",
       " (631, 0, 2): 0.012640557692721575,\n",
       " (631, 0, 3): 0.119612914322988,\n",
       " (631, 1, 0): 0.0021794818936275886,\n",
       " (631, 1, 1): 0.0060907014164445555,\n",
       " (631, 1, 2): 0.8668043965896096,\n",
       " (631, 1, 3): 0.024195841260744182}"
      ]
     },
     "execution_count": 44,
     "metadata": {},
     "output_type": "execute_result"
    }
   ],
   "source": [
    "ilp_score"
   ]
  },
  {
   "cell_type": "code",
   "execution_count": 38,
   "metadata": {
    "collapsed": false
   },
   "outputs": [
    {
     "name": "stdout",
     "output_type": "stream",
     "text": [
      "577 3\n",
      "229 1\n",
      "97 1\n",
      "470 1\n",
      "393 1\n",
      "631 2\n",
      "621 1\n",
      "272 1\n",
      "340 1\n",
      "21 1\n",
      "214 1\n",
      "41 1\n",
      "23 1\n",
      "505 9\n",
      "62 4\n"
     ]
    }
   ],
   "source": [
    "for s_id, args in id_to_args.items():\n",
    "    print s_id, len(args)"
   ]
  },
  {
   "cell_type": "code",
   "execution_count": 39,
   "metadata": {
    "collapsed": false
   },
   "outputs": [
    {
     "data": {
      "text/plain": [
       "{21: [(0, u'number joining the liquid state')],\n",
       " 23: [(0, u'the pressure in a liquid-filled container')],\n",
       " 41: [(0, u'make the water form clouds from water vapour and condensation')],\n",
       " 62: [(2, u'evaporation'),\n",
       "  (1, u'caused'),\n",
       "  (0, u'the impingement of a second sound thermal pulse'),\n",
       "  (3,\n",
       "   u'the impingement of a second sound thermal pulse onto a he iivapor interface')],\n",
       " 97: [(0, u'the conversion of water to gas')],\n",
       " 214: [(0, u'salt from seawater')],\n",
       " 229: [(0, u'water')],\n",
       " 272: [(0,\n",
       "   u'the water to cool rapidly to its freezing point and it solidifies suddenly .')],\n",
       " 340: [(0, u'adequate air movement over the lagoon')],\n",
       " 393: [(0, u'difference')],\n",
       " 470: [(0, u'primary')],\n",
       " 505: [(3, u'paired'),\n",
       "  (5, u'your water level'),\n",
       "  (1, u'check the water level - splashing around , paired with evaporation'),\n",
       "  (0, u'causes'),\n",
       "  (6, u'time'),\n",
       "  (4, u'evaporation'),\n",
       "  (7, u'over'),\n",
       "  (2, u'decrease'),\n",
       "  (8, u'your water level to decrease over time')],\n",
       " 577: [(2, u'turns'), (1, u'liquid'), (0, u'gas')],\n",
       " 621: [(0, u'its vapours')],\n",
       " 631: [(1, u'losing'), (0, u'transferred water')]}"
      ]
     },
     "execution_count": 39,
     "metadata": {},
     "output_type": "execute_result"
    }
   ],
   "source": [
    "id_to_args"
   ]
  },
  {
   "cell_type": "code",
   "execution_count": null,
   "metadata": {
    "collapsed": false
   },
   "outputs": [],
   "source": []
  },
  {
   "cell_type": "code",
   "execution_count": null,
   "metadata": {
    "collapsed": false
   },
   "outputs": [],
   "source": []
  },
  {
   "cell_type": "code",
   "execution_count": null,
   "metadata": {
    "collapsed": true
   },
   "outputs": [],
   "source": []
  },
  {
   "cell_type": "code",
   "execution_count": null,
   "metadata": {
    "collapsed": true
   },
   "outputs": [],
   "source": []
  }
 ],
 "metadata": {
  "kernelspec": {
   "display_name": "Python 2",
   "language": "python",
   "name": "python2"
  },
  "language_info": {
   "codemirror_mode": {
    "name": "ipython",
    "version": 2
   },
   "file_extension": ".py",
   "mimetype": "text/x-python",
   "name": "python",
   "nbconvert_exporter": "python",
   "pygments_lexer": "ipython2",
   "version": "2.7.6"
  }
 },
 "nbformat": 4,
 "nbformat_minor": 0
}
